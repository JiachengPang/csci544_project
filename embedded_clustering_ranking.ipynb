{
 "cells": [
  {
   "cell_type": "code",
   "execution_count": 1,
   "metadata": {},
   "outputs": [],
   "source": [
    "import datasets\n",
    "import numpy as np\n",
    "import torch\n",
    "from sklearn.cluster import KMeans\n",
    "from sklearn.decomposition import PCA\n",
    "from transformers import BertModel, BertTokenizer\n"
   ]
  },
  {
   "cell_type": "code",
   "execution_count": 2,
   "metadata": {},
   "outputs": [
    {
     "data": {
      "text/plain": [
       "dict_keys(['test', 'validation', 'train'])"
      ]
     },
     "execution_count": 2,
     "metadata": {},
     "output_type": "execute_result"
    }
   ],
   "source": [
    "dataset = datasets.load_dataset(\"stanfordnlp/snli\")\n",
    "dataset.keys()"
   ]
  },
  {
   "cell_type": "code",
   "execution_count": 3,
   "metadata": {},
   "outputs": [],
   "source": [
    "train = dataset[\"train\"]\n",
    "validation = dataset[\"validation\"]\n",
    "test = dataset[\"test\"]"
   ]
  },
  {
   "cell_type": "code",
   "execution_count": 4,
   "metadata": {},
   "outputs": [
    {
     "name": "stdout",
     "output_type": "stream",
     "text": [
      "mps\n"
     ]
    },
    {
     "data": {
      "text/plain": [
       "(550152, 10000, 10000)"
      ]
     },
     "execution_count": 4,
     "metadata": {},
     "output_type": "execute_result"
    }
   ],
   "source": [
    "model_name = \"bert-base-uncased\"\n",
    "tokenizer = BertTokenizer.from_pretrained(model_name)\n",
    "model = BertModel.from_pretrained(model_name)\n",
    "\n",
    "if torch.cuda.is_available():\n",
    "    device = torch.device(\"cuda\")\n",
    "elif torch.backends.mps.is_available():\n",
    "    device = torch.device(\"mps\")\n",
    "else:\n",
    "    device = torch.device(\"cpu\")\n",
    "print(device)\n",
    "\n",
    "model.to(device)\n",
    "len(train), len(validation), len(test)"
   ]
  },
  {
   "cell_type": "code",
   "execution_count": 5,
   "metadata": {},
   "outputs": [
    {
     "data": {
      "text/plain": [
       "(3329, 3235, 3278)"
      ]
     },
     "execution_count": 5,
     "metadata": {},
     "output_type": "execute_result"
    }
   ],
   "source": [
    "val_entailment = validation.filter(lambda x: x[\"label\"] == 0)\n",
    "val_neutral = validation.filter(lambda x: x[\"label\"] == 1)\n",
    "val_contradiction = validation.filter(lambda x: x[\"label\"] == 2)\n",
    "\n",
    "len(val_entailment), len(val_neutral), len(val_contradiction)"
   ]
  },
  {
   "cell_type": "code",
   "execution_count": 6,
   "metadata": {},
   "outputs": [],
   "source": [
    "def extract_emb(dataset, batch_size=32):\n",
    "    texts = [data[\"premise\"] + \" \" + data[\"hypothesis\"] for data in dataset]\n",
    "    total_samples = len(texts)\n",
    "\n",
    "    result = torch.zeros(total_samples, 768)\n",
    "\n",
    "    for i in range(0, total_samples, batch_size):\n",
    "        batch_texts = texts[i : i + batch_size]\n",
    "        inputs = tokenizer(\n",
    "            batch_texts,\n",
    "            padding=True,\n",
    "            truncation=True,\n",
    "            return_tensors=\"pt\",\n",
    "            max_length=512,\n",
    "        )\n",
    "        inputs = {key: value.to(device) for key, value in inputs.items()}\n",
    "\n",
    "        with torch.no_grad():\n",
    "            outputs = model(**inputs)\n",
    "        cls_embeddings = outputs.last_hidden_state[:, 0, :].cpu()\n",
    "\n",
    "        result[i : i + len(batch_texts), :] = cls_embeddings\n",
    "\n",
    "    return result\n",
    "\n",
    "\n",
    "val_entailment_emb = extract_emb(val_entailment)\n",
    "val_neutral_emb = extract_emb(val_neutral)\n",
    "val_contradiction_emb = extract_emb(val_contradiction)"
   ]
  },
  {
   "cell_type": "code",
   "execution_count": 7,
   "metadata": {},
   "outputs": [
    {
     "data": {
      "text/plain": [
       "torch.Size([3278, 768])"
      ]
     },
     "execution_count": 7,
     "metadata": {},
     "output_type": "execute_result"
    }
   ],
   "source": [
    "val_contradiction_emb.shape\n"
   ]
  },
  {
   "cell_type": "code",
   "execution_count": 8,
   "metadata": {},
   "outputs": [
    {
     "name": "stdout",
     "output_type": "stream",
     "text": [
      "0.7980432920938139\n",
      "0.7975950572671607\n",
      "0.8020781574625703\n",
      "0.8020781574625703\n"
     ]
    }
   ],
   "source": [
    "pca = PCA(n_components=64)\n",
    "\n",
    "val_entailment_emb_pca = pca.fit_transform(val_entailment_emb)\n",
    "print(sum(pca.explained_variance_ratio_))\n",
    "val_neutral_emb_pca = pca.fit_transform(val_neutral_emb)\n",
    "print(sum(pca.explained_variance_ratio_))\n",
    "val_contradiction_emb_pca = pca.fit_transform(val_contradiction_emb)\n",
    "print(sum(pca.explained_variance_ratio_))"
   ]
  },
  {
   "cell_type": "code",
   "execution_count": 9,
   "metadata": {},
   "outputs": [
    {
     "data": {
      "text/plain": [
       "(3329, 64)"
      ]
     },
     "execution_count": 9,
     "metadata": {},
     "output_type": "execute_result"
    }
   ],
   "source": [
    "val_entailment_emb_pca.shape"
   ]
  },
  {
   "cell_type": "code",
   "execution_count": 10,
   "metadata": {},
   "outputs": [
    {
     "data": {
      "text/plain": [
       "39"
      ]
     },
     "execution_count": 10,
     "metadata": {},
     "output_type": "execute_result"
    }
   ],
   "source": [
    "k_clusters = int(\n",
    "    sum((len(val_entailment), len(val_neutral), len(val_contradiction)))\n",
    "    * 0.02\n",
    "    // (2 * 3 - 1)\n",
    ")\n",
    "k_clusters"
   ]
  },
  {
   "cell_type": "code",
   "execution_count": 11,
   "metadata": {},
   "outputs": [],
   "source": [
    "kmeans = KMeans(n_clusters=k_clusters, random_state=42)\n",
    "\n",
    "val_entailment_labels = kmeans.fit_predict(val_entailment_emb)\n",
    "val_neutral_labels = kmeans.fit_predict(val_neutral_emb)\n",
    "val_contradiction_labels = kmeans.fit_predict(val_contradiction_emb)"
   ]
  },
  {
   "cell_type": "code",
   "execution_count": 12,
   "metadata": {},
   "outputs": [],
   "source": [
    "def get_borda_score(labels):\n",
    "    # TODO: 根据borda ranking计算borda score\n",
    "    raise NotImplementedError\n",
    "\n",
    "\n",
    "# TODO: 选出每个类中每个簇的borda score较低的样本，视为outliers\n"
   ]
  }
 ],
 "metadata": {
  "kernelspec": {
   "display_name": "default",
   "language": "python",
   "name": "python3"
  },
  "language_info": {
   "codemirror_mode": {
    "name": "ipython",
    "version": 3
   },
   "file_extension": ".py",
   "mimetype": "text/x-python",
   "name": "python",
   "nbconvert_exporter": "python",
   "pygments_lexer": "ipython3",
   "version": "3.11.10"
  }
 },
 "nbformat": 4,
 "nbformat_minor": 2
}
