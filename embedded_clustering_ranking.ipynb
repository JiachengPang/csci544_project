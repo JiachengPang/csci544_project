{
 "cells": [
  {
   "cell_type": "code",
   "execution_count": 1,
   "metadata": {},
   "outputs": [],
   "source": [
    "import datasets\n",
    "import numpy as np\n",
    "import torch\n",
    "from sklearn.cluster import KMeans\n",
    "from sklearn.decomposition import PCA\n",
    "from transformers import BertModel, BertTokenizer\n"
   ]
  },
  {
   "cell_type": "code",
   "execution_count": null,
   "metadata": {},
   "outputs": [],
   "source": [
    "dataset = datasets.load_dataset(\"stanfordnlp/snli\")\n",
    "dataset.keys()"
   ]
  },
  {
   "cell_type": "code",
   "execution_count": 3,
   "metadata": {},
   "outputs": [],
   "source": [
    "train = dataset[\"train\"]\n",
    "validation = dataset[\"validation\"]\n",
    "test = dataset[\"test\"]"
   ]
  },
  {
   "cell_type": "code",
   "execution_count": null,
   "metadata": {},
   "outputs": [],
   "source": [
    "model_name = \"bert-base-uncased\"\n",
    "tokenizer = BertTokenizer.from_pretrained(model_name)\n",
    "model = BertModel.from_pretrained(model_name)\n",
    "\n",
    "if torch.cuda.is_available():\n",
    "    device = torch.device(\"cuda\")\n",
    "elif torch.backends.mps.is_available():\n",
    "    device = torch.device(\"mps\")\n",
    "else:\n",
    "    device = torch.device(\"cpu\")\n",
    "print(device)\n",
    "\n",
    "model.to(device)\n",
    "len(train), len(validation), len(test)"
   ]
  },
  {
   "cell_type": "code",
   "execution_count": null,
   "metadata": {},
   "outputs": [],
   "source": [
    "test_entailment = test.filter(lambda x: x[\"label\"] == 0)\n",
    "test_neutral = test.filter(lambda x: x[\"label\"] == 1)\n",
    "test_contradiction = test.filter(lambda x: x[\"label\"] == 2)\n",
    "\n",
    "validation = validation.filter(lambda x: x[\"label\"] != -1)\n",
    "\n",
    "len(test_entailment), len(test_neutral), len(test_contradiction), len(validation)"
   ]
  },
  {
   "cell_type": "code",
   "execution_count": 7,
   "metadata": {},
   "outputs": [],
   "source": [
    "def extract_emb(dataset, batch_size=32):\n",
    "    texts = [data[\"premise\"] + \" \" + data[\"hypothesis\"] for data in dataset]\n",
    "    total_samples = len(texts)\n",
    "\n",
    "    result = torch.zeros(total_samples, 768)\n",
    "\n",
    "    for i in range(0, total_samples, batch_size):\n",
    "        batch_texts = texts[i : i + batch_size]\n",
    "        inputs = tokenizer(\n",
    "            batch_texts,\n",
    "            padding=True,\n",
    "            truncation=True,\n",
    "            return_tensors=\"pt\",\n",
    "            max_length=512,\n",
    "        )\n",
    "        inputs = {key: value.to(device) for key, value in inputs.items()}\n",
    "\n",
    "        with torch.no_grad():\n",
    "            outputs = model(**inputs)\n",
    "        cls_embeddings = outputs.last_hidden_state[:, 0, :].cpu()\n",
    "\n",
    "        result[i : i + len(batch_texts), :] = cls_embeddings\n",
    "\n",
    "    return result\n",
    "\n",
    "\n",
    "test_entailment_emb = extract_emb(test_entailment)\n",
    "test_neutral_emb = extract_emb(test_neutral)\n",
    "test_contradiction_emb = extract_emb(test_contradiction)\n",
    "\n",
    "validation_emb = extract_emb(validation)"
   ]
  },
  {
   "cell_type": "code",
   "execution_count": null,
   "metadata": {},
   "outputs": [],
   "source": [
    "test_contradiction_emb.shape\n"
   ]
  },
  {
   "cell_type": "code",
   "execution_count": null,
   "metadata": {},
   "outputs": [],
   "source": [
    "pca = PCA(n_components=64)\n",
    "\n",
    "test_entailment_emb_pca = pca.fit_transform(test_entailment_emb)\n",
    "print(sum(pca.explained_variance_ratio_))\n",
    "test_neutral_emb_pca = pca.fit_transform(test_neutral_emb)\n",
    "print(sum(pca.explained_variance_ratio_))\n",
    "test_contradiction_emb_pca = pca.fit_transform(test_contradiction_emb)\n",
    "print(sum(pca.explained_variance_ratio_))\n",
    "\n",
    "validation_emb_pca = pca.fit_transform(validation_emb)\n",
    "print(sum(pca.explained_variance_ratio_))"
   ]
  },
  {
   "cell_type": "code",
   "execution_count": null,
   "metadata": {},
   "outputs": [],
   "source": [
    "test_entailment_emb_pca.shape"
   ]
  },
  {
   "cell_type": "code",
   "execution_count": null,
   "metadata": {},
   "outputs": [],
   "source": [
    "k_clusters = int(\n",
    "    sum((len(test_entailment), len(test_neutral), len(test_contradiction)))\n",
    "    * 0.02\n",
    "    // (2 * 3 - 1)\n",
    ")\n",
    "k_clusters"
   ]
  },
  {
   "cell_type": "code",
   "execution_count": 12,
   "metadata": {},
   "outputs": [],
   "source": [
    "kmeans = KMeans(n_clusters=k_clusters, random_state=42)\n",
    "\n",
    "test_entailment_labels = kmeans.fit_predict(test_entailment_emb)\n",
    "test_neutral_labels = kmeans.fit_predict(test_neutral_emb)\n",
    "test_contradiction_labels = kmeans.fit_predict(test_contradiction_emb)"
   ]
  },
  {
   "cell_type": "code",
   "execution_count": null,
   "metadata": {},
   "outputs": [],
   "source": [
    "# flag = True\n",
    "\n",
    "n_models = 5\n",
    "\n",
    "lstms = {}\n",
    "\n",
    "for i in range(n_models):\n",
    "    lstm = torch.nn.LSTM(64, 3, 3)\n",
    "    lstm.to(device)\n",
    "    optimizer = torch.optim.Adam(lstm.parameters(), lr=1e-5)\n",
    "    criterion = torch.nn.CrossEntropyLoss()\n",
    "\n",
    "    best_accuracy = 0\n",
    "\n",
    "    for epoch in range(100):\n",
    "        total_loss = 0\n",
    "        for i in range(0, len(validation_emb_pca), 32):\n",
    "            batch = validation_emb_pca[i : i + 32]\n",
    "            batch = torch.tensor(batch, dtype=torch.float32).to(device)\n",
    "            labels = torch.tensor(validation[i : i + 32][\"label\"]).to(device)\n",
    "\n",
    "            optimizer.zero_grad()\n",
    "            output, _ = lstm(batch.unsqueeze(1))\n",
    "\n",
    "            loss = criterion(output.squeeze(), labels)\n",
    "            total_loss += loss.item()\n",
    "            loss.backward()\n",
    "            optimizer.step()\n",
    "\n",
    "        print(\n",
    "            f\"Model: {i + 1} *** Epoch {epoch} *** Loss: {total_loss / (len(validation_emb_pca) / 32)}\"\n",
    "        )\n",
    "        # Test\n",
    "        correct = 0\n",
    "        total = 0\n",
    "        for i in range(0, len(validation_emb_pca), 32):\n",
    "            batch = validation_emb_pca[i : i + 32]\n",
    "            batch = torch.tensor(batch, dtype=torch.float32).to(device)\n",
    "            labels = torch.tensor(validation[i : i + 32][\"label\"]).to(device)\n",
    "\n",
    "            output, _ = lstm(batch.unsqueeze(1))\n",
    "            _, predicted = torch.max(output.data, 1)\n",
    "            total += labels.size(0)\n",
    "            correct += (predicted == labels).sum().item()\n",
    "\n",
    "        if 100 * correct / total > best_accuracy:\n",
    "            best_accuracy = 100 * correct / total\n",
    "            lstms[i] = lstm.state_dict()\n",
    "\n",
    "        print(f\"Accuracy: {100 * correct / total:.4f}\")\n",
    "    print(f\"Best accuracy: {best_accuracy:.4f}\")\n",
    "\n",
    "\n",
    "confidence = np.zeros((len(test), n_models))\n",
    "\n",
    "for i in range(n_models):\n",
    "    lstm = torch.nn.LSTM(64, 3, 3)\n",
    "    lstm.load_state_dict(lstms[i])\n",
    "    lstm.to(device)\n",
    "    lstm.eval()\n",
    "    with torch.no_grad():\n",
    "        for j in range(0, len(test), 32):\n",
    "            batch = test_entailment_emb_pca[j : j + 32]\n",
    "            batch = torch.tensor(batch, dtype=torch.float32).to(device)\n",
    "            labels = test[j : j + 32][\"label\"]\n",
    "\n",
    "            output, _ = lstm(batch.unsqueeze(1))\n",
    "\n",
    "            confidence[j : j + 32, i] = (\n",
    "                torch.nn.functional.softmax(output, dim=2)[:, labels]\n",
    "                .cpu()\n",
    "                .detach()\n",
    "                .numpy()\n",
    "            )\n"
   ]
  },
  {
   "cell_type": "code",
   "execution_count": null,
   "metadata": {},
   "outputs": [],
   "source": [
    "test_entailment_cnt = np.zeros(k_clusters)\n",
    "test_neutral_cnt = np.zeros(k_clusters)\n",
    "test_contradiction_cnt = np.zeros(k_clusters)\n",
    "\n",
    "for i in range(k_clusters):\n",
    "    test_entailment_cnt[i] = np.sum(test_entailment_labels == i)\n",
    "    test_neutral_cnt[i] = np.sum(test_neutral_labels == i)\n",
    "    test_contradiction_cnt[i] = np.sum(test_contradiction_labels == i)\n",
    "\n",
    "rankings = {\n",
    "    \"entailment\": {},\n",
    "    \"neutral\": {},\n",
    "    \"contradiction\": {},\n",
    "}\n",
    "\n",
    "for i in range(k_clusters):\n",
    "    rankings[\"entailment\"][i] = {}\n",
    "    rankings[\"neutral\"][i] = {}\n",
    "    rankings[\"contradiction\"][i] = {}\n",
    "\n",
    "    for j in range(n_models):\n",
    "        rankings[\"entailment\"][i][j] = confidence[test_entailment_labels == i, j]\n",
    "        rankings[\"entailment\"][i][j] = np.argsort(rankings[\"entailment\"][i][j])\n",
    "\n",
    "        rankings[\"neutral\"][i][j] = confidence[test_neutral_labels == i, j]\n",
    "        rankings[\"neutral\"][i][j] = np.argsort(rankings[\"neutral\"][i][j])\n",
    "\n",
    "        rankings[\"contradiction\"][i][j] = confidence[test_contradiction_labels == i, j]\n",
    "        rankings[\"contradiction\"][i][j] = np.argsort(rankings[\"contradiction\"][i][j])\n"
   ]
  },
  {
   "cell_type": "code",
   "execution_count": null,
   "metadata": {},
   "outputs": [],
   "source": [
    "scores = {}\n",
    "\n",
    "for i in range(k_clusters):\n",
    "    scores[\"entailment\"][i] = test_entailment_cnt[i] * n_models\n",
    "    scores[\"neutral\"][i] = test_neutral_cnt[i] * n_models\n",
    "    scores[\"contradiction\"][i] = test_contradiction_cnt[i] * n_models\n",
    "    for j in range(n_models):\n",
    "        scores[\"entailment\"][i] -= rankings[\"entailment\"][i][j]\n",
    "        scores[\"neutral\"][i] -= rankings[\"neutral\"][i][j]\n",
    "        scores[\"contradiction\"][i] -= rankings[\"contradiction\"][i][j]\n"
   ]
  }
 ],
 "metadata": {
  "kernelspec": {
   "display_name": "default",
   "language": "python",
   "name": "python3"
  },
  "language_info": {
   "codemirror_mode": {
    "name": "ipython",
    "version": 3
   },
   "file_extension": ".py",
   "mimetype": "text/x-python",
   "name": "python",
   "nbconvert_exporter": "python",
   "pygments_lexer": "ipython3",
   "version": "3.11.10"
  }
 },
 "nbformat": 4,
 "nbformat_minor": 2
}
